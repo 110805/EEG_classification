{
  "nbformat": 4,
  "nbformat_minor": 0,
  "metadata": {
    "colab": {
      "name": "EEG_classification.ipynb",
      "provenance": [],
      "collapsed_sections": [],
      "authorship_tag": "ABX9TyOOmX3speTmhti/6dqMHAI9",
      "include_colab_link": true
    },
    "kernelspec": {
      "name": "python3",
      "display_name": "Python 3"
    }
  },
  "cells": [
    {
      "cell_type": "markdown",
      "metadata": {
        "id": "view-in-github",
        "colab_type": "text"
      },
      "source": [
        "<a href=\"https://colab.research.google.com/github/110805/EEG_classification/blob/master/EEG_classification.ipynb\" target=\"_parent\"><img src=\"https://colab.research.google.com/assets/colab-badge.svg\" alt=\"Open In Colab\"/></a>"
      ]
    },
    {
      "cell_type": "code",
      "metadata": {
        "id": "gXWa6DIoPaGR",
        "colab_type": "code",
        "colab": {
          "base_uri": "https://localhost:8080/",
          "height": 225
        },
        "outputId": "cd34b52e-a7ad-4fda-b57e-ccd69b9bba14"
      },
      "source": [
        "import dataloader as loader\n",
        "import torch\n",
        "import torch.nn as nn\n",
        "import torch.nn.functional as F\n",
        "import torch.optim as optim\n",
        "\n",
        "# Hyperparameter setting\n",
        "batch_size = 64\n",
        "learning_rate = 1e-2\n",
        "epochs = 300\n",
        "\n",
        "# Loading data\n",
        "train_data, train_label, test_data, test_label = loader.read_bci_data()\n",
        "\n",
        "class EEGNet(nn.Module):\n",
        "    def __init__(self):\n",
        "        super(EEGNet, self).__init__()\n",
        "\n",
        "        # firstconv\n",
        "        self.conv1 = nn.Conv2d(1, 16, kernel_size=(1,51), stride=(1,1), padding=(0,25), bias=False)\n",
        "        self.batchnorm1 = nn.BatchNorm2d(16, eps=1e-05, momentum=0.1, affine=True, track_running_stats=True)\n",
        "\n",
        "        # depthwiseconv\n",
        "        self.conv2 = nn.Conv2d(16, 32, kernel_size=(2,1), stride=(1,1), groups=16, bias=False)\n",
        "        self.batchnorm2 = nn.BatchNorm2d(32, eps=1e-05, momentum=0.1, affine=True, track_running_stats=True)\n",
        "        self.avgpool1 = nn.AvgPool2d(kernel_size=(1,4), stride=(1,4), padding=0)\n",
        "\n",
        "        # separableconv\n",
        "        self.conv3 = nn.Conv2d(32, 32, kernel_size=(1,15), stride=(1,1), padding=(0,7), bias=False)\n",
        "        self.batchnorm3 = nn.BatchNorm2d(32, eps=1e-05, momentum=0.1, affine=True, track_running_stats=True)\n",
        "        self.avgpool2 = nn.AvgPool2d(kernel_size=(1,8), stride=(1,8), padding=0)\n",
        "\n",
        "        # classify\n",
        "        self.linear1 = nn.Linear(736, 2, bias=True)\n",
        "\n",
        "    def forward(self, x):\n",
        "        # firstconv\n",
        "        out = self.conv1(x)\n",
        "        out = self.batchnorm1(out)\n",
        "\n",
        "        # depthwiseconv\n",
        "        out = self.conv2(out)\n",
        "        out = F.elu(self.batchnorm2(out), alpha=1.0)\n",
        "        out = F.dropout(self.avgpool1(out), p=0.25)\n",
        "\n",
        "        # separableconv\n",
        "        out = self.conv3(out)\n",
        "        out = F.elu(self.batchnorm3(out), alpha=1.0)\n",
        "        out = F.dropout(self.avgpool2(out), p=0.25)\n",
        "\n",
        "        # classify\n",
        "        out = self.linear1(out)\n",
        "\n",
        "        return out\n",
        "\n",
        "model = EEGNet()\n",
        "loss = nn.CrossEntropyLoss()\n",
        "optimizer = optim.Adam(model.parameters(), lr=learning_rate)\n",
        "\n",
        "model.train()"
      ],
      "execution_count": 11,
      "outputs": [
        {
          "output_type": "stream",
          "text": [
            "(1080, 1, 2, 750) (1080,) (1080, 1, 2, 750) (1080,)\n"
          ],
          "name": "stdout"
        },
        {
          "output_type": "execute_result",
          "data": {
            "text/plain": [
              "EEGNet(\n",
              "  (conv1): Conv2d(1, 16, kernel_size=(1, 51), stride=(1, 1), padding=(0, 25), bias=False)\n",
              "  (batchnorm1): BatchNorm2d(16, eps=1e-05, momentum=0.1, affine=True, track_running_stats=True)\n",
              "  (conv2): Conv2d(16, 32, kernel_size=(2, 1), stride=(1, 1), groups=16, bias=False)\n",
              "  (batchnorm2): BatchNorm2d(32, eps=1e-05, momentum=0.1, affine=True, track_running_stats=True)\n",
              "  (avgpool1): AvgPool2d(kernel_size=(1, 4), stride=(1, 4), padding=0)\n",
              "  (conv3): Conv2d(32, 32, kernel_size=(1, 15), stride=(1, 1), padding=(0, 7), bias=False)\n",
              "  (batchnorm3): BatchNorm2d(32, eps=1e-05, momentum=0.1, affine=True, track_running_stats=True)\n",
              "  (avgpool2): AvgPool2d(kernel_size=(1, 8), stride=(1, 8), padding=0)\n",
              "  (linear1): Linear(in_features=736, out_features=2, bias=True)\n",
              ")"
            ]
          },
          "metadata": {
            "tags": []
          },
          "execution_count": 11
        }
      ]
    }
  ]
}